


from RSAT_functions_example_butler import *





fn_butler = r'g:\ProjectenWaterkeringen\ToetsenOpVeiligheid\WBI2017\00 Ringtoets2017\09 Onderzoek tbv WBI\doorlatendheid\literatuur\Butler_table 110-111.xlsx'
df_ts = pd.read_excel(fn_butler,
                      skiprows=4,
                      index_col=0)
df_ts.columns = ['obs_head', 'normalized_head_from_book']
df_ts.head()


butler = Slugtest()
butler.test_type = 'drop'




butler.normalize_df()
'''
A series of slug tests were performed at a monitoring well in Pratt County, Kansas that was screened in an unconsolidated alluvial sequence consisting primarily of sands and the gravels with interbedded clays (Butler et al. 1993).
Table 6.1 summarizes the well-construction information [..].
'''

butler.rw = 0.125
butler.rc = 0.064
butler.b = 1.52
butler.Le = butler.b
butler.B = 50.60
butler.AqThick = butler.B
butler.d = 18.59
butler.Aniso = 1
